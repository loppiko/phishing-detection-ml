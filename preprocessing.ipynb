{
 "cells": [
  {
   "cell_type": "markdown",
   "id": "fc82e8ba3e5e8511",
   "metadata": {},
   "source": [
    "## Project Overview\n",
    "\n",
    "### Dataset:\n",
    "\n",
    "https://www.kaggle.com/datasets/naserabdullahalam/phishing-email-dataset/data?select=phishing_email.csv\n",
    "\n",
    " \n",
    "\n",
    "### Project Objective:\n",
    "\n",
    "The objective of the project is to classify emails using supervised learning methods. Emails will be categorized into several classes such as:\n",
    "\n",
    "- Spam\n",
    "- Normal emails\n",
    "- Phishing\n",
    "- Fraud\n",
    "\n",
    "The dataset is composed of several separate sources:\n",
    "\n",
    "    Enron and Ling Datasets: primarily focused on the core content of emails.\n",
    "    CEAS, Nazario, Nigerian Fraud, and SpamAssassin Datasets: provide context about the message, such as the sender, recipient, date, etc.\n",
    "\n",
    "The data will require preprocessing to create a unified database that includes all necessary information. The entire project consists of approximately 85,000 emails."
   ]
  },
  {
   "cell_type": "markdown",
   "id": "c4776fe39dcc018e",
   "metadata": {},
   "source": [
    "## Preprocessing\n",
    "\n",
    "Pierwsza częśc preprocessingu zawiera **import** odpowiednich bilbiotek oraz **paczek nltk** (biblioteki do przetwarzania tekstu) oraz **stworzenia** zbioru **stop_words** - słów, które niosą niską zawartość informacyjną."
   ]
  },
  {
   "cell_type": "code",
   "execution_count": null,
   "id": "41cff9a9",
   "metadata": {
    "vscode": {
     "languageId": "plaintext"
    }
   },
   "outputs": [],
   "source": [
    "import pandas as pd\n",
    "import nltk\n",
    "import re\n",
    "from nltk.stem import WordNetLemmatizer"
   ]
  },
  {
   "cell_type": "code",
   "execution_count": null,
   "id": "c96f0603",
   "metadata": {
    "vscode": {
     "languageId": "plaintext"
    }
   },
   "outputs": [],
   "source": [
    "def prepare_nltk() -> None:\n",
    "    nltk.download('stopwords')\n",
    "    nltk.download('wordnet')\n",
    "    nltk.download('omw-1.4')\n",
    "\n",
    "\n",
    "prepare_nltk()\n",
    "stop_words_set = set(nltk.corpus.stopwords.words('english'))"
   ]
  },
  {
   "cell_type": "markdown",
   "id": "eab8d8f0",
   "metadata": {},
   "source": [
    "### Podział na różne kategorie\n",
    "\n",
    "**Finalny dataset**, będzie składał się z danych z **6 różnych zbiorów danych**. Każdy z tych dataset-ów zawiera odpowiednie kategorie (label), która oznacza wiadomość **legit (label 0) bądź nie (label 1)**. Jednak różne datasety zawierają różne informacje dotyczące samych wiadomości i **etykiety mają inne znaczenie w zależności od zbioru danych**. Z tego powodu każdy dataset został przypisany do konkretnej kategorii:\n",
    "\n",
    "| Dataset name | Category | Label of faked messages |\n",
    "| --- | --- | --- |\n",
    "| **Enron** | Spam | **1** |\n",
    "| **Ling** | Spam | **1** |\n",
    "| **SpamAssasin** | Spam | **1** |\n",
    "| **CEAS_08** | Phishing | **2** |\n",
    "| **Nazario** | Phishing | **2** |\n",
    "| **Nigerian_Fraud** | Fraud | **3** |\n",
    "\n",
    "\n"
   ]
  },
  {
   "cell_type": "code",
   "execution_count": null,
   "id": "50d334fb",
   "metadata": {
    "vscode": {
     "languageId": "plaintext"
    }
   },
   "outputs": [],
   "source": [
    "list_of_spam_dataset = [\n",
    "    \"dataset/non-processed/SpamAssasin.csv\",\n",
    "    \"dataset/non-processed/Enron.csv\",\n",
    "    \"dataset/non-processed/Ling.csv\"\n",
    "]\n",
    "list_of_fraud_dataset = [\n",
    "    \"dataset/non-processed/Nigerian_Fraud.csv\"\n",
    "]\n",
    "list_of_phishing_dataset = [\n",
    "    \"dataset/non-processed/CEAS_08.csv\",\n",
    "    \"dataset/non-processed/Nazario.csv\"\n",
    "]\n",
    "\n",
    "\n",
    "final_data_frame = pd.DataFrame()\n",
    "\n",
    "for dataset_path in list_of_spam_dataset:\n",
    "\n",
    "    df = manage_dataset_preprocess(dataset_path)\n",
    "    df['label'] = df['label'].map({0: 0, 1: 1})\n",
    "    final_data_frame = pd.concat([final_data_frame, df], ignore_index=True)\n",
    "\n",
    "for dataset_path in list_of_phishing_dataset:\n",
    "    \n",
    "    df = manage_dataset_preprocess(dataset_path)\n",
    "    df['label'] = df['label'].map({0: 0, 1: 2})\n",
    "    final_data_frame = pd.concat([final_data_frame, df], ignore_index=True)\n",
    "\n",
    "\n",
    "for dataset_path in list_of_fraud_dataset:\n",
    "    \n",
    "    df = manage_dataset_preprocess(dataset_path)\n",
    "    df['label'] = df['label'].map({0: 0, 1: 3})\n",
    "    final_data_frame = pd.concat([final_data_frame, df], ignore_index=True)\n",
    "\n"
   ]
  }
 ],
 "metadata": {
  "kernelspec": {
   "display_name": "Python 3",
   "language": "python",
   "name": "python3"
  },
  "language_info": {
   "codemirror_mode": {
    "name": "ipython",
    "version": 2
   },
   "file_extension": ".py",
   "mimetype": "text/x-python",
   "name": "python",
   "nbconvert_exporter": "python",
   "pygments_lexer": "ipython2",
   "version": "2.7.6"
  }
 },
 "nbformat": 4,
 "nbformat_minor": 5
}
