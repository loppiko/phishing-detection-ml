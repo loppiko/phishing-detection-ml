{
 "cells": [
  {
   "cell_type": "markdown",
   "id": "fc82e8ba3e5e8511",
   "metadata": {},
   "source": [
    "## Project Overview\n",
    "\n",
    "### Dataset:\n",
    "\n",
    "https://www.kaggle.com/datasets/naserabdullahalam/phishing-email-dataset/data?select=phishing_email.csv\n",
    "\n",
    " \n",
    "\n",
    "### Project Objective:\n",
    "\n",
    "The objective of the project is to classify emails using supervised learning methods. Emails will be categorized into several classes such as:\n",
    "\n",
    "- Spam\n",
    "- Normal emails\n",
    "- Phishing\n",
    "- Fraud\n",
    "\n",
    "The dataset is composed of several separate sources:\n",
    "\n",
    "    Enron and Ling Datasets: primarily focused on the core content of emails.\n",
    "    CEAS, Nazario, Nigerian Fraud, and SpamAssassin Datasets: provide context about the message, such as the sender, recipient, date, etc.\n",
    "\n",
    "The data will require preprocessing to create a unified database that includes all necessary information. The entire project consists of approximately 85,000 emails."
   ]
  },
  {
   "cell_type": "markdown",
   "id": "c4776fe39dcc018e",
   "metadata": {},
   "source": [
    "## Preprocessing\n",
    "\n",
    "Pierwsza częśc preprocessingu zawiera **import** odpowiednich bilbiotek oraz **paczek nltk** (biblioteki do przetwarzania tekstu) oraz **stworzenia** zbioru **stop_words** - słów, które niosą niską zawartość informacyjną."
   ]
  },
  {
   "cell_type": "code",
   "execution_count": null,
   "id": "41cff9a9",
   "metadata": {
    "vscode": {
     "languageId": "plaintext"
    }
   },
   "outputs": [],
   "source": [
    "import pandas as pd\n",
    "import nltk\n",
    "import re\n",
    "from nltk.stem import WordNetLemmatizer"
   ]
  },
  {
   "cell_type": "code",
   "execution_count": null,
   "id": "c96f0603",
   "metadata": {
    "vscode": {
     "languageId": "plaintext"
    }
   },
   "outputs": [],
   "source": [
    "def prepare_nltk() -> None:\n",
    "    nltk.download('stopwords')\n",
    "    nltk.download('wordnet')\n",
    "    nltk.download('omw-1.4')\n",
    "\n",
    "\n",
    "prepare_nltk()\n",
    "stop_words_set = set(nltk.corpus.stopwords.words('english'))"
   ]
  },
  {
   "cell_type": "markdown",
   "id": "eab8d8f0",
   "metadata": {},
   "source": [
    "### Podział na różne kategorie\n",
    "\n",
    "**Finalny dataset**, będzie składał się z danych z **6 różnych zbiorów danych**. Każdy z tych dataset-ów zawiera odpowiednie kategorie (label), która oznacza wiadomość **legit (label 0) bądź nie (label 1)**. Jednak różne datasety zawierają różne informacje dotyczące samych wiadomości i **etykiety mają inne znaczenie w zależności od zbioru danych**. Z tego powodu każdy dataset został przypisany do konkretnej kategorii:\n",
    "\n",
    "| Dataset name | Category | Label of faked messages |\n",
    "| --- | --- | --- |\n",
    "| **Enron** | Spam | **1** |\n",
    "| **Ling** | Spam | **1** |\n",
    "| **SpamAssasin** | Spam | **1** |\n",
    "| **CEAS_08** | Phishing | **2** |\n",
    "| **Nazario** | Phishing | **2** |\n",
    "| **Nigerian_Fraud** | Fraud | **3** |\n",
    "\n",
    "\n"
   ]
  },
  {
   "cell_type": "code",
   "execution_count": null,
   "id": "50d334fb",
   "metadata": {
    "vscode": {
     "languageId": "plaintext"
    }
   },
   "outputs": [],
   "source": [
    "list_of_spam_dataset = [\n",
    "    \"dataset/non-processed/SpamAssasin.csv\",\n",
    "    \"dataset/non-processed/Enron.csv\",\n",
    "    \"dataset/non-processed/Ling.csv\"\n",
    "]\n",
    "list_of_fraud_dataset = [\n",
    "    \"dataset/non-processed/Nigerian_Fraud.csv\"\n",
    "]\n",
    "list_of_phishing_dataset = [\n",
    "    \"dataset/non-processed/CEAS_08.csv\",\n",
    "    \"dataset/non-processed/Nazario.csv\"\n",
    "]\n",
    "\n",
    "\n",
    "final_data_frame = pd.DataFrame()\n",
    "\n",
    "for dataset_path in list_of_spam_dataset:\n",
    "\n",
    "    df = manage_dataset_preprocess(dataset_path)\n",
    "    df['label'] = df['label'].map({0: 0, 1: 1})\n",
    "    final_data_frame = pd.concat([final_data_frame, df], ignore_index=True)\n",
    "\n",
    "for dataset_path in list_of_phishing_dataset:\n",
    "    \n",
    "    df = manage_dataset_preprocess(dataset_path)\n",
    "    df['label'] = df['label'].map({0: 0, 1: 2})\n",
    "    final_data_frame = pd.concat([final_data_frame, df], ignore_index=True)\n",
    "\n",
    "\n",
    "for dataset_path in list_of_fraud_dataset:\n",
    "    \n",
    "    df = manage_dataset_preprocess(dataset_path)\n",
    "    df['label'] = df['label'].map({0: 0, 1: 3})\n",
    "    final_data_frame = pd.concat([final_data_frame, df], ignore_index=True)"
   ]
  },
  {
   "cell_type": "markdown",
   "id": "24728886",
   "metadata": {},
   "source": [
    "### Ogólny preprocessing danych\n",
    "\n",
    "Każdy dataset zawiera różne kolumny. Każdy z nich zawiera kolumnę subject oraz body, jednak niektóre z nich nie zawierają kolumn receiver i sender (Jeśli dataset nie zawiera\n",
    "jednej z tych kolumn, wartość poszczególnych wartości jest ustawiona na 'None'). Finalna baza danych, będzie zawierała 5 kolumn:\n",
    "\n",
    "- **body**\n",
    "- **subject**\n",
    "- **receiver**\n",
    "- **sender**\n",
    "- **label**\n",
    "\n",
    "Każda z tych kolumn zostanie przetworzona przez osobną funkcję."
   ]
  },
  {
   "cell_type": "code",
   "execution_count": null,
   "id": "405d99b7",
   "metadata": {
    "vscode": {
     "languageId": "plaintext"
    }
   },
   "outputs": [],
   "source": [
    "def manage_dataset_preprocess(dataset_path: str) -> pd.DataFrame:\n",
    "    df = pd.read_csv(dataset_path)\n",
    "\n",
    "    if 'sender' not in df.columns:\n",
    "        df['sender'] = None\n",
    "    if 'receiver' not in df.columns:\n",
    "        df['receiver'] = None\n",
    "    \n",
    "    df = df[['subject', 'body', 'sender', 'receiver',  'label']]\n",
    "    df['body'] = df['body'].apply(preprocess_dataset_text)\n",
    "    df['subject'] = df['subject'].apply(preprocess_dataset_subject)\n",
    "    df['receiver'] = df['receiver'].apply(preprocess_dataset_sender_receiver)\n",
    "    df['sender'] = df['sender'].apply(preprocess_dataset_sender_receiver)\n",
    "\n",
    "    return df\n"
   ]
  },
  {
   "cell_type": "markdown",
   "id": "c529e560",
   "metadata": {},
   "source": [
    "### Sposób przetwarzania kolumn\n",
    "\n",
    "Każdy ciąg znaków z każdej kolumny (oprócz 'label') jest **przetwarzany za pomocą regex**, aby pozbyć zredukować ilość danych i ograniczyć liczbę śmieci. Tabela, z danymi w każdej kolumnie:\n",
    "\n",
    "| Column | delete E-mail | delete links | only chars | delete garbage | Lower letters | Lematizer |\n",
    "| --- | --- | --- | --- | --- | --- | --- |\n",
    "| **Body** | ✅ | ✅ | ✅ | ✅ | ✅ | ✅ |\n",
    "| **Subject** | ❌ | ❌ | ✅ | ❌ | ✅ | ✅ |\n",
    "| **Sender**, **Receiver** | ❌ | ❌ | ❌ | ❌ | ✅ | ❌ |\n",
    "\n",
    "*garbage word* - słowo które zawiera 4 powtórzenia z rzędu tej samej litery, lub jest dłuższe niż 15 znaków. Słowa śmieci zostały usunięte tylko z kolumny 'body', ponieważ to tam jest największa potrzeba ograniczenia ilości danych.\n",
    "\n",
    "Oprócz tego z kolumn **'body' oraz 'subject' usuwane** są tak zwane **'stop_words'** (O tym w dalszej części). W kolumnach 'sender' oraz 'receiver' dozwolone znaki to: '.', '-' oraz '_'. W tych dwóch kolumnach **obcinamy** także **'username' emaila**, a **pozostawamy** **tylko nazwę domeny** oraz **top level domain**.\n",
    "\n",
    "Jeśli dane wejściowe **nie są instancją string**, lub przetworzony **ciąg znaków jest pusty** to zwracana jest wartość **'None'**."
   ]
  },
  {
   "cell_type": "code",
   "execution_count": null,
   "id": "81a2ccc0",
   "metadata": {
    "vscode": {
     "languageId": "plaintext"
    }
   },
   "outputs": [],
   "source": [
    "def preprocess_dataset_text(text: str) -> str | None:\n",
    "\n",
    "    if not isinstance(text, str):\n",
    "        return None\n",
    "    \n",
    "    text = re.sub(r'\\S+@\\S+', '', text)\n",
    "    text = re.sub(r'http\\S+|www\\S+|https\\S+', '', text)\n",
    "    text = re.sub(r'[^a-zA-Z\\s]', '', text)\n",
    "\n",
    "    ### Remove garbage\n",
    "    text = re.sub(r'\\b([a-zA-Z])\\1{4,}\\b', '', text)  # Same letter more than 5 times\n",
    "    text = re.sub(r'\\b\\w{15,}\\b', '', text)  # Words longer than 15 chars\n",
    "\n",
    "    text = text.lower()\n",
    "    text = \" \".join(word for word in text.split() if word not in stop_words_set)\n",
    "\n",
    "    lemmatizer = WordNetLemmatizer()\n",
    "    text = \" \".join([lemmatizer.lemmatize(word) for word in text.split()])\n",
    "\n",
    "    if text == '':\n",
    "        return None\n",
    "\n",
    "    return text\n",
    "\n",
    "\n",
    "def preprocess_dataset_subject(subject: str) -> str | None:\n",
    "    \n",
    "    if not isinstance(subject, str) or subject == '':\n",
    "        return None\n",
    "    \n",
    "    lemmatizer = nltk.stem.WordNetLemmatizer()\n",
    "    \n",
    "    subject = subject.lower()\n",
    "    subject = re.sub(r'[^a-zA-Z\\s]', '', subject)\n",
    "\n",
    "    # Stop_words\n",
    "    subject = \" \".join(word for word in subject.split() if word not in stop_words_set)\n",
    "    subject = \" \".join([lemmatizer.lemmatize(word) for word in subject.split()])  # 4. Lematyzacja\n",
    "\n",
    "    if subject == '':\n",
    "        return None\n",
    "\n",
    "    return subject\n",
    "\n",
    "\n",
    "def preprocess_dataset_sender_receiver(data: str) -> str | None:\n",
    "    \n",
    "    if not isinstance(data, str):\n",
    "        return None\n",
    "\n",
    "    data = data.strip().lower()\n",
    "    data = data.split('@')[-1]        # TODO: Only domain\n",
    "\n",
    "    match = re.match(r'^[a-z0-9._-]*', data)\n",
    "\n",
    "    if match:\n",
    "        data = match.group(0)\n",
    "\n",
    "    if data == '':\n",
    "            return None\n",
    "\n",
    "    return data"
   ]
  },
  {
   "cell_type": "markdown",
   "id": "f29e284c",
   "metadata": {},
   "source": [
    "### Rozwiązanie problemu pustych wartości lub wartości 'None'\n",
    "\n",
    "Niektóre datasety już na starcie nie zawierały pewnych wymaganych danych:\n",
    "\n",
    "| Dataset | body | subject | sender | receiver |\n",
    "| --- | --- | --- | --- | --- |\n",
    "| **Enron** | ✅ | ✅ | ❌ | ❌ |\n",
    "| **Ling** | ✅ | ✅ | ❌ | ❌ |\n",
    "| **SpamAssasin** | ✅ | ✅ | ✅ | ✅ |\n",
    "| **CEAS_08** | ✅ | ✅ | ✅ | ✅ |\n",
    "| **Nazario** | ✅ | ✅ | ✅ | ✅ |\n",
    "| **Nigerian_Fraud** | ✅ | ✅ | ✅ | ✅ |\n",
    "\n",
    "Oprócz tego, część danych została utracona poprzez filtrowanie i przetwarzanie kolumn (wszytskie puste dane zostały zastąpione wartośćią 'None'). Z tego względu wartości 'None' zostaną następnie zastąpione przez najczęściej występującą wartość w każdej z kolumn."
   ]
  },
  {
   "cell_type": "code",
   "execution_count": null,
   "id": "e8640e42",
   "metadata": {
    "vscode": {
     "languageId": "plaintext"
    }
   },
   "outputs": [],
   "source": [
    "def impute_missing_values(df: pd.DataFrame, column: str) -> None:\n",
    "    mode_value = df[column].mode()[0]\n",
    "    df.fillna({column: mode_value}, inplace=True)\n",
    "\n",
    "\n",
    "impute_missing_values(final_data_frame, \"subject\")\n",
    "impute_missing_values(final_data_frame, \"body\")\n",
    "impute_missing_values(final_data_frame, \"sender\")\n",
    "impute_missing_values(final_data_frame, \"receiver\")"
   ]
  },
  {
   "cell_type": "markdown",
   "id": "effbcb65",
   "metadata": {},
   "source": [
    "### Ostateczne zbiory danych\n",
    "\n",
    "Przetworzone dane zostaną zapisane do pliku '.csv'. Z racji tego, że projekt skupia się na przetestowaniu rónych modeli, o różnej charakterystyce, ostatecznie stworzone zostały 4 różne datasety:\n",
    "\n",
    "- **final.csv**\n",
    "- **final-domain-only.csv**\n",
    "- **final-with-stop-words.csv**\n",
    "- **final-with-stop-words-domain-only.csv**\n",
    "\n",
    "| Final Dataset name | Przekształcenie 'sender' i 'receiver' do postaci domen | pozostawienie stopwords |\n",
    "| --- |  --- | --- |\n",
    "| final.csv | ❌ | ❌ |\n",
    "| final-domain-only.csv | ✅ | ❌ |\n",
    "| final-with-stop-words.csv | ❌ | ✅ |\n",
    "| final-with-stop-words-domain-only.csv | ✅ | ✅ |\n",
    "\n",
    "Wszystkie z tych zbiorów danych zostaną porównane dla każdego z modeli."
   ]
  },
  {
   "cell_type": "code",
   "execution_count": null,
   "id": "2bc24ad2",
   "metadata": {
    "vscode": {
     "languageId": "plaintext"
    }
   },
   "outputs": [],
   "source": [
    "final_data_frame.to_csv(\"dataset/processed/final-domain-only.csv\", index=False)"
   ]
  }
 ],
 "metadata": {
  "kernelspec": {
   "display_name": "Python 3",
   "language": "python",
   "name": "python3"
  },
  "language_info": {
   "codemirror_mode": {
    "name": "ipython",
    "version": 2
   },
   "file_extension": ".py",
   "mimetype": "text/x-python",
   "name": "python",
   "nbconvert_exporter": "python",
   "pygments_lexer": "ipython2",
   "version": "2.7.6"
  }
 },
 "nbformat": 4,
 "nbformat_minor": 5
}
